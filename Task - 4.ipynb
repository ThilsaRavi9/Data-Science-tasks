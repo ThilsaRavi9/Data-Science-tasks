{
 "cells": [
  {
   "cell_type": "code",
   "execution_count": 6,
   "id": "d326e1e4",
   "metadata": {},
   "outputs": [],
   "source": [
    "import numpy as np\n",
    "\n",
    "# Step 1: Define a custom Python function\n",
    "def custom_hypotenuse(a, b):\n",
    "    return np.sqrt(a ** 2 + b ** 2)"
   ]
  },
  {
   "cell_type": "code",
   "execution_count": 7,
   "id": "0c96a9a7",
   "metadata": {},
   "outputs": [],
   "source": [
    "# Step 2: Convert the custom function to a ufunc using np.frompyfunc\n",
    "# We have two inputs (a, b) and one output\n",
    "hypotenuse_ufunc = np.frompyfunc(custom_hypotenuse, 2, 1)"
   ]
  },
  {
   "cell_type": "code",
   "execution_count": 8,
   "id": "34501619",
   "metadata": {},
   "outputs": [],
   "source": [
    "# Step 3: Create two NumPy arrays representing the sides of right triangles\n",
    "side_a = np.array([3, 5, 8, 7])\n",
    "side_b = np.array([4, 12, 15, 24])"
   ]
  },
  {
   "cell_type": "code",
   "execution_count": 9,
   "id": "631605f9",
   "metadata": {},
   "outputs": [],
   "source": [
    "# Step 4: Apply the custom ufunc to the arrays\n",
    "hypotenuses = hypotenuse_ufunc(side_a, side_b)"
   ]
  },
  {
   "cell_type": "code",
   "execution_count": 10,
   "id": "d44202c1",
   "metadata": {},
   "outputs": [],
   "source": [
    "# Step 5: Convert the result back to a standard NumPy array (optional)\n",
    "hypotenuses_array = np.array(hypotenuses, dtype=np.float64)"
   ]
  },
  {
   "cell_type": "code",
   "execution_count": 11,
   "id": "4da2fe46",
   "metadata": {},
   "outputs": [
    {
     "name": "stdout",
     "output_type": "stream",
     "text": [
      "Side A: [3 5 8 7]\n",
      "Side B: [ 4 12 15 24]\n",
      "Hypotenuses: [ 5. 13. 17. 25.]\n"
     ]
    }
   ],
   "source": [
    "# Output the result\n",
    "print(\"Side A:\", side_a)\n",
    "print(\"Side B:\", side_b)\n",
    "print(\"Hypotenuses:\", hypotenuses_array)"
   ]
  }
 ],
 "metadata": {
  "kernelspec": {
   "display_name": "Python 3 (ipykernel)",
   "language": "python",
   "name": "python3"
  },
  "language_info": {
   "codemirror_mode": {
    "name": "ipython",
    "version": 3
   },
   "file_extension": ".py",
   "mimetype": "text/x-python",
   "name": "python",
   "nbconvert_exporter": "python",
   "pygments_lexer": "ipython3",
   "version": "3.10.9"
  }
 },
 "nbformat": 4,
 "nbformat_minor": 5
}
